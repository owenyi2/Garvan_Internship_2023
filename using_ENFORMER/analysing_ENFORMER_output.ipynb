{
 "cells": [
  {
   "cell_type": "markdown",
   "metadata": {},
   "source": [
    "# Analysing output from colab notebook"
   ]
  },
  {
   "cell_type": "code",
   "execution_count": 40,
   "metadata": {},
   "outputs": [],
   "source": [
    "from sklearn import feature_selection, model_selection, metrics, linear_model\n",
    "import pandas as pd\n",
    "import matplotlib.pyplot as plt"
   ]
  },
  {
   "cell_type": "code",
   "execution_count": 45,
   "metadata": {},
   "outputs": [],
   "source": [
    "reference_df = pd.read_csv(\"EPCrisprBenchmark_ensemble_data_reference.tsv\", sep=\"\\t\")\n",
    "output_df = pd.read_csv(\"ENFORMER_output_0.tsv\", sep=\"\\t\")\n",
    "output_df = output_df.fillna(0)\n",
    "\n",
    "df = reference_df.merge(output_df[[\"name\", \"ENFORMER_score\"]], on = \"name\", how=\"left\")\n",
    "df[\"ENFORMER_score\"] = df[\"ENFORMER_score\"].fillna(0)\n",
    "\n",
    "chrom_test_set = [\"chr1\", \"chr11\"]"
   ]
  },
  {
   "cell_type": "markdown",
   "metadata": {},
   "source": [
    "# Naive Analysis"
   ]
  },
  {
   "cell_type": "code",
   "execution_count": 47,
   "metadata": {},
   "outputs": [
    {
     "name": "stdout",
     "output_type": "stream",
     "text": [
      "0.9542805916629314\n"
     ]
    }
   ],
   "source": [
    "X_train = df[~df[\"chrom\"].isin(chrom_test_set)][[\"ENFORMER_score\"]]\n",
    "y_train = df[~df[\"chrom\"].isin(chrom_test_set)][\"Regulated\"]\n",
    "X_test = df[df[\"chrom\"].isin(chrom_test_set)][[\"ENFORMER_score\"]]\n",
    "y_test = df[df[\"chrom\"].isin(chrom_test_set)][\"Regulated\"]\n",
    "\n",
    "clf = linear_model.LogisticRegression(random_state=0).fit(X_train, y_train)\n",
    "print(clf.score(X_test, y_test))"
   ]
  },
  {
   "cell_type": "code",
   "execution_count": 48,
   "metadata": {},
   "outputs": [
    {
     "data": {
      "image/png": "[encoded data removed]",
      "text/plain": [
       "<Figure size 640x480 with 1 Axes>"
      ]
     },
     "metadata": {},
     "output_type": "display_data"
    },
    {
     "name": "stdout",
     "output_type": "stream",
     "text": [
      "0.4190235294625503\n"
     ]
    }
   ],
   "source": [
    "precision, recall, thresholds = metrics.precision_recall_curve(y_test, clf.predict_proba(X_test)[:, 1])\n",
    "aupr = metrics.auc(recall, precision)\n",
    "\n",
    "plt.title(\"Precision Recall Curve\")\n",
    "plt.plot(recall, precision)\n",
    "plt.show()\n",
    "\n",
    "print(aupr)\n",
    "\n",
    "# The auprc is not shabby"
   ]
  },
  {
   "cell_type": "code",
   "execution_count": 39,
   "metadata": {},
   "outputs": [
    {
     "data": {
      "text/plain": [
       "array([0.05862762])"
      ]
     },
     "execution_count": 39,
     "metadata": {},
     "output_type": "execute_result"
    }
   ],
   "source": [
    "feature_selection.mutual_info_classif(df[\"ENFORMER_score\"].to_numpy().reshape(-1, 1), df[\"Regulated\"])\n",
    "\n",
    "# the Mutual Information is decent"
   ]
  },
  {
   "cell_type": "code",
   "execution_count": 51,
   "metadata": {},
   "outputs": [
    {
     "data": {
      "text/plain": [
       "(0.2179194700197721, 0.008357665811482567)"
      ]
     },
     "execution_count": 51,
     "metadata": {},
     "output_type": "execute_result"
    }
   ],
   "source": [
    "# Lets just gut check the logic that higher ENFORMER score contribution score means more likely to be genuine Enhancer regulating gene \n",
    "df[df[\"Regulated\"]][\"ENFORMER_score\"].mean(), df[~df[\"Regulated\"]][\"ENFORMER_score\"].mean()"
   ]
  },
  {
   "cell_type": "markdown",
   "metadata": {},
   "source": [
    "# Closer Analysis"
   ]
  },
  {
   "cell_type": "code",
   "execution_count": 54,
   "metadata": {},
   "outputs": [
    {
     "data": {
      "text/plain": [
       "0.10517721640572471"
      ]
     },
     "execution_count": 54,
     "metadata": {},
     "output_type": "execute_result"
    }
   ],
   "source": [
    "(df[\"ENFORMER_score\"]!=0).sum() / len(df)"
   ]
  },
  {
   "cell_type": "markdown",
   "metadata": {},
   "source": [
    "Only 10% of the candidate Enhancer Promoter Pairs are have distance to TSS within the ENFORMER output window. Which means for the other 90%, the model is blind and gives NaN (which we've filled in with 0).\n",
    "\n",
    "Now that means distance becomes a confounding variable\n",
    "- Because extremely far EPI candidates will get an automatic 0 for ENFORMER_score\n",
    "- However since EPI depend on contact which decreases with distance, the % of genuine EPI decreases with distance\n",
    "- So we need to be sure that the ENFORMER score has a predictive power beyond just naively assigning 0 to extremely far candidates"
   ]
  },
  {
   "cell_type": "code",
   "execution_count": 58,
   "metadata": {},
   "outputs": [
    {
     "name": "stdout",
     "output_type": "stream",
     "text": [
      "0.6751269035532995\n",
      "aupr 0.5250625394936728\n",
      "MI [0.0793227]\n",
      "ENFORMER contribution score (regulated, ~regulated)\n",
      "0.3121375938224383 0.10985625895781856\n"
     ]
    }
   ],
   "source": [
    "X_train = output_df[~output_df[\"chrom\"].isin(chrom_test_set)][[\"ENFORMER_score\"]]\n",
    "y_train = output_df[~output_df[\"chrom\"].isin(chrom_test_set)][\"Regulated\"]\n",
    "X_test = output_df[output_df[\"chrom\"].isin(chrom_test_set)][[\"ENFORMER_score\"]]\n",
    "y_test = output_df[output_df[\"chrom\"].isin(chrom_test_set)][\"Regulated\"]\n",
    "\n",
    "clf = linear_model.LogisticRegression(random_state=0).fit(X_train, y_train)\n",
    "print(clf.score(X_test, y_test))\n",
    "\n",
    "precision, recall, thresholds = metrics.precision_recall_curve(y_test, clf.predict_proba(X_test)[:, 1])\n",
    "aupr = metrics.auc(recall, precision)\n",
    "\n",
    "print(\"aupr\", aupr)\n",
    "print(\"MI\", feature_selection.mutual_info_classif(output_df[\"ENFORMER_score\"].to_numpy().reshape(-1, 1), output_df[\"Regulated\"]))\n",
    "print(\"ENFORMER contribution score (regulated, ~regulated)\")\n",
    "print(output_df[output_df[\"Regulated\"]][\"ENFORMER_score\"].mean(), output_df[~output_df[\"Regulated\"]][\"ENFORMER_score\"].mean())\n"
   ]
  },
  {
   "cell_type": "markdown",
   "metadata": {},
   "source": [
    "So it turns out that within the 10% of EPI that the ENFORMER can rule on, it performs even better.\n",
    "Which means the ENFORMER score is an extremely effective feature, provided the EPI candidates are within 114kbp. "
   ]
  }
 ],
 "metadata": {
  "kernelspec": {
   "display_name": ".venv",
   "language": "python",
   "name": "python3"
  },
  "language_info": {
   "codemirror_mode": {
    "name": "ipython",
    "version": 3
   },
   "file_extension": ".py",
   "mimetype": "text/x-python",
   "name": "python",
   "nbconvert_exporter": "python",
   "pygments_lexer": "ipython3",
   "version": "3.12.0"
  }
 },
 "nbformat": 4,
 "nbformat_minor": 2
}
